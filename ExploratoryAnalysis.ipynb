{
 "cells": [
  {
   "cell_type": "code",
   "execution_count": 266,
   "metadata": {},
   "outputs": [],
   "source": [
    "import pandas as pd\n",
    "import numpy as np\n",
    "import matplotlib.pyplot as plt\n",
    "%matplotlib inline "
   ]
  },
  {
   "cell_type": "code",
   "execution_count": 313,
   "metadata": {},
   "outputs": [
    {
     "data": {
      "text/html": [
       "<div>\n",
       "<style>\n",
       "    .dataframe thead tr:only-child th {\n",
       "        text-align: right;\n",
       "    }\n",
       "\n",
       "    .dataframe thead th {\n",
       "        text-align: left;\n",
       "    }\n",
       "\n",
       "    .dataframe tbody tr th {\n",
       "        vertical-align: top;\n",
       "    }\n",
       "</style>\n",
       "<table border=\"1\" class=\"dataframe\">\n",
       "  <thead>\n",
       "    <tr style=\"text-align: right;\">\n",
       "      <th></th>\n",
       "      <th>Age</th>\n",
       "      <th>Cabin</th>\n",
       "      <th>Embarked</th>\n",
       "      <th>Fare</th>\n",
       "      <th>Name</th>\n",
       "      <th>Parch</th>\n",
       "      <th>PassengerId</th>\n",
       "      <th>Pclass</th>\n",
       "      <th>Sex</th>\n",
       "      <th>SibSp</th>\n",
       "      <th>Survived</th>\n",
       "      <th>Ticket</th>\n",
       "    </tr>\n",
       "  </thead>\n",
       "  <tbody>\n",
       "    <tr>\n",
       "      <th>0</th>\n",
       "      <td>22.0</td>\n",
       "      <td>NaN</td>\n",
       "      <td>S</td>\n",
       "      <td>7.2500</td>\n",
       "      <td>Braund, Mr. Owen Harris</td>\n",
       "      <td>0</td>\n",
       "      <td>1</td>\n",
       "      <td>3</td>\n",
       "      <td>male</td>\n",
       "      <td>1</td>\n",
       "      <td>0.0</td>\n",
       "      <td>A/5 21171</td>\n",
       "    </tr>\n",
       "    <tr>\n",
       "      <th>1</th>\n",
       "      <td>38.0</td>\n",
       "      <td>C85</td>\n",
       "      <td>C</td>\n",
       "      <td>71.2833</td>\n",
       "      <td>Cumings, Mrs. John Bradley (Florence Briggs Th...</td>\n",
       "      <td>0</td>\n",
       "      <td>2</td>\n",
       "      <td>1</td>\n",
       "      <td>female</td>\n",
       "      <td>1</td>\n",
       "      <td>1.0</td>\n",
       "      <td>PC 17599</td>\n",
       "    </tr>\n",
       "    <tr>\n",
       "      <th>2</th>\n",
       "      <td>26.0</td>\n",
       "      <td>NaN</td>\n",
       "      <td>S</td>\n",
       "      <td>7.9250</td>\n",
       "      <td>Heikkinen, Miss. Laina</td>\n",
       "      <td>0</td>\n",
       "      <td>3</td>\n",
       "      <td>3</td>\n",
       "      <td>female</td>\n",
       "      <td>0</td>\n",
       "      <td>1.0</td>\n",
       "      <td>STON/O2. 3101282</td>\n",
       "    </tr>\n",
       "    <tr>\n",
       "      <th>3</th>\n",
       "      <td>35.0</td>\n",
       "      <td>C123</td>\n",
       "      <td>S</td>\n",
       "      <td>53.1000</td>\n",
       "      <td>Futrelle, Mrs. Jacques Heath (Lily May Peel)</td>\n",
       "      <td>0</td>\n",
       "      <td>4</td>\n",
       "      <td>1</td>\n",
       "      <td>female</td>\n",
       "      <td>1</td>\n",
       "      <td>1.0</td>\n",
       "      <td>113803</td>\n",
       "    </tr>\n",
       "    <tr>\n",
       "      <th>4</th>\n",
       "      <td>35.0</td>\n",
       "      <td>NaN</td>\n",
       "      <td>S</td>\n",
       "      <td>8.0500</td>\n",
       "      <td>Allen, Mr. William Henry</td>\n",
       "      <td>0</td>\n",
       "      <td>5</td>\n",
       "      <td>3</td>\n",
       "      <td>male</td>\n",
       "      <td>0</td>\n",
       "      <td>0.0</td>\n",
       "      <td>373450</td>\n",
       "    </tr>\n",
       "  </tbody>\n",
       "</table>\n",
       "</div>"
      ],
      "text/plain": [
       "    Age Cabin Embarked     Fare  \\\n",
       "0  22.0   NaN        S   7.2500   \n",
       "1  38.0   C85        C  71.2833   \n",
       "2  26.0   NaN        S   7.9250   \n",
       "3  35.0  C123        S  53.1000   \n",
       "4  35.0   NaN        S   8.0500   \n",
       "\n",
       "                                                Name  Parch  PassengerId  \\\n",
       "0                            Braund, Mr. Owen Harris      0            1   \n",
       "1  Cumings, Mrs. John Bradley (Florence Briggs Th...      0            2   \n",
       "2                             Heikkinen, Miss. Laina      0            3   \n",
       "3       Futrelle, Mrs. Jacques Heath (Lily May Peel)      0            4   \n",
       "4                           Allen, Mr. William Henry      0            5   \n",
       "\n",
       "   Pclass     Sex  SibSp  Survived            Ticket  \n",
       "0       3    male      1       0.0         A/5 21171  \n",
       "1       1  female      1       1.0          PC 17599  \n",
       "2       3  female      0       1.0  STON/O2. 3101282  \n",
       "3       1  female      1       1.0            113803  \n",
       "4       3    male      0       0.0            373450  "
      ]
     },
     "execution_count": 313,
     "metadata": {},
     "output_type": "execute_result"
    }
   ],
   "source": [
    "datapath = 'data/'\n",
    "train = pd.read_csv(datapath+'train.csv')\n",
    "test = pd.read_csv(datapath+'test.csv')\n",
    "# 66% Train, 33% test\n",
    "data = train.append(test)\n",
    "# data shape - 1309, 12\n",
    "data.head()"
   ]
  },
  {
   "cell_type": "markdown",
   "metadata": {},
   "source": [
    "Variable\tDefinition\t    Key\n",
    "\n",
    "survival \tSurvival \t    0 = No, 1 = Yes\n",
    "pclass \t    Ticket class \t1 = 1st, 2 = 2nd, 3 = 3rd\n",
    "sex \t    Sex \t\n",
    "Age \t    Age in years \t\n",
    "sibsp \t    # of siblings / spouses aboard the Titanic \t\n",
    "parch \t    # of parents / children aboard the Titanic \t\n",
    "ticket \t    Ticket number \t\n",
    "fare \t    Passenger fare \t\n",
    "cabin \t    Cabin number \t\n",
    "embarked \tPort of Embarkation \tC = Cherbourg, Q = Queenstown, S = Southampton"
   ]
  },
  {
   "cell_type": "code",
   "execution_count": 314,
   "metadata": {},
   "outputs": [
    {
     "name": "stdout",
     "output_type": "stream",
     "text": [
      "Age            1046\n",
      "Cabin           295\n",
      "Embarked       1307\n",
      "Fare           1308\n",
      "Name           1309\n",
      "Parch          1309\n",
      "PassengerId    1309\n",
      "Pclass         1309\n",
      "Sex            1309\n",
      "SibSp          1309\n",
      "Survived        891\n",
      "Ticket         1309\n",
      "dtype: int64\n",
      "Number of unique tickets 929 for 1309 passengers\n"
     ]
    }
   ],
   "source": [
    "# First fill missing values\n",
    "print(data.count())\n",
    "# Cabin has too much missing values, PassengerId is useless\n",
    "print(\"Number of unique tickets {} for {} passengers\".format(len(np.unique(data['Ticket'])), data.shape[0]))\n",
    "# Tickets is too unique, no use for prediction\n",
    "\n",
    "data.drop(['Cabin', 'PassengerId', 'Ticket'], axis=1, inplace=True)"
   ]
  },
  {
   "cell_type": "code",
   "execution_count": 315,
   "metadata": {},
   "outputs": [
    {
     "name": "stdout",
     "output_type": "stream",
     "text": [
      "      Age Embarked  Fare                Name  Parch  Pclass   Sex  SibSp  \\\n",
      "152  60.5        S   NaN  Storey, Mr. Thomas      0       3  male      0   \n",
      "\n",
      "     Survived  \n",
      "152       NaN  \n",
      "S    914\n",
      "C    270\n",
      "Q    123\n",
      "Name: Embarked, dtype: int64\n"
     ]
    }
   ],
   "source": [
    "# Age, Embarked and Fare have missing values\n",
    "\n",
    "print(data[pd.isnull(data['Fare'])])\n",
    "# Fill the Fare of the missing passenger with the median of the same Embarking point and Class\n",
    "data.Fare.fillna(data.Fare[(data.Embarked == 'S') & (data['Pclass'] == 3)].median(), inplace=True);\n",
    "\n",
    "# Fill Embarked and force 2.0 class to the most common\n",
    "print(data.Embarked.value_counts())\n",
    "data.replace({'Embarked' :{2.0 : 'S'}}, inplace=True)\n",
    "data.Embarked.fillna('S', inplace=True)\n"
   ]
  },
  {
   "cell_type": "code",
   "execution_count": 316,
   "metadata": {},
   "outputs": [
    {
     "name": "stdout",
     "output_type": "stream",
     "text": [
      "Mr              757\n",
      "Miss            260\n",
      "Mrs             197\n",
      "Master           61\n",
      "Rev               8\n",
      "Dr                8\n",
      "Col               4\n",
      "Mlle              2\n",
      "Major             2\n",
      "Ms                2\n",
      "Mme               1\n",
      "Dona              1\n",
      "Jonkheer          1\n",
      "the Countess      1\n",
      "Don               1\n",
      "Sir               1\n",
      "Lady              1\n",
      "Capt              1\n",
      "Name: Title, dtype: int64\n"
     ]
    }
   ],
   "source": [
    "# Before we fill the age, extract the title to get the median age for each title \n",
    "# From 'Name' column extract 'Title' - Mr., Mrs., Master., Miss., other\n",
    "data['Title'] = data['Name'].map(lambda name:name.split(',')[1].split('.')[0].strip())\n",
    "print(data['Title'].value_counts())   \n",
    "cleanup_nums = {\"Title\":     {  'Rev' : 'Mr',\n",
    "                                'Dr'  : 'Mr',\n",
    "                                'Col' : 'Mr',\n",
    "                                'Mlle': 'Miss',\n",
    "                                'Major' : 'Mr',                            \n",
    "                                'Ms'  :'Miss',                \n",
    "                                'Mme' : 'Mrs',               \n",
    "                                'Sir' : 'Mr'}}  # Replace most titles           \n",
    "data.replace(cleanup_nums, inplace=True)\n",
    "cleanup_nums = {\"Title\": {'Miss'  : 1,\n",
    "                          'Mrs'   : 2,\n",
    "                          'Master': 3,\n",
    "                          'Mr'    : 4,\n",
    "                          'Capt'  : 0,            \n",
    "                          'Dona'  : 0,           \n",
    "                          'Don'   : 0,           \n",
    "                          'the Countess' : 0,\n",
    "                          'Jonkheer' : 0,\n",
    "                          'Lady' : 0}}\n",
    "data.replace(cleanup_nums, inplace=True)"
   ]
  },
  {
   "cell_type": "code",
   "execution_count": 317,
   "metadata": {},
   "outputs": [
    {
     "data": {
      "text/html": [
       "<div>\n",
       "<style>\n",
       "    .dataframe thead tr:only-child th {\n",
       "        text-align: right;\n",
       "    }\n",
       "\n",
       "    .dataframe thead th {\n",
       "        text-align: left;\n",
       "    }\n",
       "\n",
       "    .dataframe tbody tr th {\n",
       "        vertical-align: top;\n",
       "    }\n",
       "</style>\n",
       "<table border=\"1\" class=\"dataframe\">\n",
       "  <thead>\n",
       "    <tr style=\"text-align: right;\">\n",
       "      <th></th>\n",
       "      <th>Embarked</th>\n",
       "      <th>Fare</th>\n",
       "      <th>Name</th>\n",
       "      <th>Parch</th>\n",
       "      <th>Pclass</th>\n",
       "      <th>Sex</th>\n",
       "      <th>SibSp</th>\n",
       "      <th>Survived</th>\n",
       "      <th>Title</th>\n",
       "      <th>Age</th>\n",
       "    </tr>\n",
       "  </thead>\n",
       "  <tbody>\n",
       "    <tr>\n",
       "      <th>0</th>\n",
       "      <td>S</td>\n",
       "      <td>7.2500</td>\n",
       "      <td>Braund, Mr. Owen Harris</td>\n",
       "      <td>0</td>\n",
       "      <td>3</td>\n",
       "      <td>male</td>\n",
       "      <td>1</td>\n",
       "      <td>0.0</td>\n",
       "      <td>4</td>\n",
       "      <td>22.0</td>\n",
       "    </tr>\n",
       "    <tr>\n",
       "      <th>1</th>\n",
       "      <td>C</td>\n",
       "      <td>71.2833</td>\n",
       "      <td>Cumings, Mrs. John Bradley (Florence Briggs Th...</td>\n",
       "      <td>0</td>\n",
       "      <td>1</td>\n",
       "      <td>female</td>\n",
       "      <td>1</td>\n",
       "      <td>1.0</td>\n",
       "      <td>2</td>\n",
       "      <td>38.0</td>\n",
       "    </tr>\n",
       "    <tr>\n",
       "      <th>2</th>\n",
       "      <td>S</td>\n",
       "      <td>7.9250</td>\n",
       "      <td>Heikkinen, Miss. Laina</td>\n",
       "      <td>0</td>\n",
       "      <td>3</td>\n",
       "      <td>female</td>\n",
       "      <td>0</td>\n",
       "      <td>1.0</td>\n",
       "      <td>1</td>\n",
       "      <td>26.0</td>\n",
       "    </tr>\n",
       "    <tr>\n",
       "      <th>3</th>\n",
       "      <td>S</td>\n",
       "      <td>53.1000</td>\n",
       "      <td>Futrelle, Mrs. Jacques Heath (Lily May Peel)</td>\n",
       "      <td>0</td>\n",
       "      <td>1</td>\n",
       "      <td>female</td>\n",
       "      <td>1</td>\n",
       "      <td>1.0</td>\n",
       "      <td>2</td>\n",
       "      <td>35.0</td>\n",
       "    </tr>\n",
       "    <tr>\n",
       "      <th>4</th>\n",
       "      <td>S</td>\n",
       "      <td>8.0500</td>\n",
       "      <td>Allen, Mr. William Henry</td>\n",
       "      <td>0</td>\n",
       "      <td>3</td>\n",
       "      <td>male</td>\n",
       "      <td>0</td>\n",
       "      <td>0.0</td>\n",
       "      <td>4</td>\n",
       "      <td>35.0</td>\n",
       "    </tr>\n",
       "  </tbody>\n",
       "</table>\n",
       "</div>"
      ],
      "text/plain": [
       "  Embarked     Fare                                               Name  Parch  \\\n",
       "0        S   7.2500                            Braund, Mr. Owen Harris      0   \n",
       "1        C  71.2833  Cumings, Mrs. John Bradley (Florence Briggs Th...      0   \n",
       "2        S   7.9250                             Heikkinen, Miss. Laina      0   \n",
       "3        S  53.1000       Futrelle, Mrs. Jacques Heath (Lily May Peel)      0   \n",
       "4        S   8.0500                           Allen, Mr. William Henry      0   \n",
       "\n",
       "   Pclass     Sex  SibSp  Survived  Title   Age  \n",
       "0       3    male      1       0.0      4  22.0  \n",
       "1       1  female      1       1.0      2  38.0  \n",
       "2       3  female      0       1.0      1  26.0  \n",
       "3       1  female      1       1.0      2  35.0  \n",
       "4       3    male      0       0.0      4  35.0  "
      ]
     },
     "execution_count": 317,
     "metadata": {},
     "output_type": "execute_result"
    }
   ],
   "source": [
    "# Fill the ages with the median for a title\n",
    "median_ages = np.zeros((5))\n",
    "for i in range(0, 5):\n",
    "        median_ages[i] = data[(data.Title == i)]['Age'].dropna().median()\n",
    "data['AgeFill'] = data.Age\n",
    "for i in range(0, 5):\n",
    "        data.loc[(data.Age.isnull()) & (data.Title == i) , 'AgeFill'] = median_ages[i]\n",
    "data.drop(['Age'], axis = 1, inplace = True)\n",
    "\n",
    "data.rename(index=str, columns={'AgeFill' : 'Age'}, inplace=True)\n",
    "\n",
    "# Now there are no missing values in the dataset (Except the Survived on the test sample)\n",
    "data.head()"
   ]
  },
  {
   "cell_type": "code",
   "execution_count": 318,
   "metadata": {},
   "outputs": [
    {
     "data": {
      "text/plain": [
       "array([[<matplotlib.axes._subplots.AxesSubplot object at 0x0000021A10593390>,\n",
       "        <matplotlib.axes._subplots.AxesSubplot object at 0x0000021A0EB0F048>,\n",
       "        <matplotlib.axes._subplots.AxesSubplot object at 0x0000021A0BDD2DD8>],\n",
       "       [<matplotlib.axes._subplots.AxesSubplot object at 0x0000021A0E5CCE10>,\n",
       "        <matplotlib.axes._subplots.AxesSubplot object at 0x0000021A0B94D978>,\n",
       "        <matplotlib.axes._subplots.AxesSubplot object at 0x0000021A0B94DA90>],\n",
       "       [<matplotlib.axes._subplots.AxesSubplot object at 0x0000021A0B243748>,\n",
       "        <matplotlib.axes._subplots.AxesSubplot object at 0x0000021A0BB0AEF0>,\n",
       "        <matplotlib.axes._subplots.AxesSubplot object at 0x0000021A0C91C400>]], dtype=object)"
      ]
     },
     "execution_count": 318,
     "metadata": {},
     "output_type": "execute_result"
    },
    {
     "data": {
      "image/png": "[encoded data removed]",
      "text/plain": [
       "<matplotlib.figure.Figure at 0x21a106be748>"
      ]
     },
     "metadata": {},
     "output_type": "display_data"
    },
    {
     "data": {
      "image/png": "[encoded data removed]",
      "text/plain": [
       "<matplotlib.figure.Figure at 0x21a105ce160>"
      ]
     },
     "metadata": {},
     "output_type": "display_data"
    }
   ],
   "source": [
    "# Let's examine the Parch and SibSp\n",
    "\n",
    "data['Survived'].hist(by=data['Parch'], figsize=(8,8))\n",
    "data['Survived'].hist(by=data['SibSp'], figsize=(8,8))"
   ]
  },
  {
   "cell_type": "code",
   "execution_count": 319,
   "metadata": {},
   "outputs": [
    {
     "data": {
      "text/plain": [
       "array([[<matplotlib.axes._subplots.AxesSubplot object at 0x0000021A0E5336D8>,\n",
       "        <matplotlib.axes._subplots.AxesSubplot object at 0x0000021A0F379518>],\n",
       "       [<matplotlib.axes._subplots.AxesSubplot object at 0x0000021A0F38C5F8>,\n",
       "        <matplotlib.axes._subplots.AxesSubplot object at 0x0000021A0AE767B8>],\n",
       "       [<matplotlib.axes._subplots.AxesSubplot object at 0x0000021A0C0CDF60>,\n",
       "        <matplotlib.axes._subplots.AxesSubplot object at 0x0000021A0C0CDF98>]], dtype=object)"
      ]
     },
     "execution_count": 319,
     "metadata": {},
     "output_type": "execute_result"
    },
    {
     "data": {
      "image/png": "[encoded data removed]",
      "text/plain": [
       "<matplotlib.figure.Figure at 0x21a105bd710>"
      ]
     },
     "metadata": {},
     "output_type": "display_data"
    }
   ],
   "source": [
    "# Looks like loners and big families have less chance to survive\n",
    "# Also the 2 variables seem to exibit similar pattern, so we can combine it into FamilySize\n",
    "\n",
    "# 'Parch' and 'SibSp' have a similar pattern, so combine them in one\n",
    "data['FamilySize'] = data['Parch'] + data['SibSp']\n",
    "# Threshold the family size to 4+\n",
    "data.loc[data.FamilySize > 4, 'FamilySize'] = 4\n",
    "data['Survived'].hist(by=data['FamilySize'], figsize=(8,8))"
   ]
  },
  {
   "cell_type": "code",
   "execution_count": 320,
   "metadata": {},
   "outputs": [
    {
     "data": {
      "text/html": [
       "<div>\n",
       "<style>\n",
       "    .dataframe thead tr:only-child th {\n",
       "        text-align: right;\n",
       "    }\n",
       "\n",
       "    .dataframe thead th {\n",
       "        text-align: left;\n",
       "    }\n",
       "\n",
       "    .dataframe tbody tr th {\n",
       "        vertical-align: top;\n",
       "    }\n",
       "</style>\n",
       "<table border=\"1\" class=\"dataframe\">\n",
       "  <thead>\n",
       "    <tr style=\"text-align: right;\">\n",
       "      <th></th>\n",
       "      <th>Embarked</th>\n",
       "      <th>Fare</th>\n",
       "      <th>Pclass</th>\n",
       "      <th>Sex</th>\n",
       "      <th>Survived</th>\n",
       "      <th>Title</th>\n",
       "      <th>Age</th>\n",
       "      <th>FamilySize</th>\n",
       "    </tr>\n",
       "  </thead>\n",
       "  <tbody>\n",
       "    <tr>\n",
       "      <th>0</th>\n",
       "      <td>S</td>\n",
       "      <td>7.2500</td>\n",
       "      <td>3</td>\n",
       "      <td>male</td>\n",
       "      <td>0.0</td>\n",
       "      <td>4</td>\n",
       "      <td>22.0</td>\n",
       "      <td>1</td>\n",
       "    </tr>\n",
       "    <tr>\n",
       "      <th>1</th>\n",
       "      <td>C</td>\n",
       "      <td>71.2833</td>\n",
       "      <td>1</td>\n",
       "      <td>female</td>\n",
       "      <td>1.0</td>\n",
       "      <td>2</td>\n",
       "      <td>38.0</td>\n",
       "      <td>1</td>\n",
       "    </tr>\n",
       "    <tr>\n",
       "      <th>2</th>\n",
       "      <td>S</td>\n",
       "      <td>7.9250</td>\n",
       "      <td>3</td>\n",
       "      <td>female</td>\n",
       "      <td>1.0</td>\n",
       "      <td>1</td>\n",
       "      <td>26.0</td>\n",
       "      <td>0</td>\n",
       "    </tr>\n",
       "    <tr>\n",
       "      <th>3</th>\n",
       "      <td>S</td>\n",
       "      <td>53.1000</td>\n",
       "      <td>1</td>\n",
       "      <td>female</td>\n",
       "      <td>1.0</td>\n",
       "      <td>2</td>\n",
       "      <td>35.0</td>\n",
       "      <td>1</td>\n",
       "    </tr>\n",
       "    <tr>\n",
       "      <th>4</th>\n",
       "      <td>S</td>\n",
       "      <td>8.0500</td>\n",
       "      <td>3</td>\n",
       "      <td>male</td>\n",
       "      <td>0.0</td>\n",
       "      <td>4</td>\n",
       "      <td>35.0</td>\n",
       "      <td>0</td>\n",
       "    </tr>\n",
       "  </tbody>\n",
       "</table>\n",
       "</div>"
      ],
      "text/plain": [
       "  Embarked     Fare  Pclass     Sex  Survived  Title   Age  FamilySize\n",
       "0        S   7.2500       3    male       0.0      4  22.0           1\n",
       "1        C  71.2833       1  female       1.0      2  38.0           1\n",
       "2        S   7.9250       3  female       1.0      1  26.0           0\n",
       "3        S  53.1000       1  female       1.0      2  35.0           1\n",
       "4        S   8.0500       3    male       0.0      4  35.0           0"
      ]
     },
     "execution_count": 320,
     "metadata": {},
     "output_type": "execute_result"
    }
   ],
   "source": [
    "# FamilySize now looks better than the Parch and SibSp, so we can use that instead\n",
    "# We can still extract the family name from name to see if families sink together but it is too complicated for now\n",
    "data.drop(['Parch', 'SibSp', 'Name'], axis = 1, inplace = True)\n",
    "\n",
    "data.head()"
   ]
  },
  {
   "cell_type": "code",
   "execution_count": 321,
   "metadata": {},
   "outputs": [
    {
     "data": {
      "text/plain": [
       "array([[<matplotlib.axes._subplots.AxesSubplot object at 0x0000021A0F2F1898>,\n",
       "        <matplotlib.axes._subplots.AxesSubplot object at 0x0000021A1063D6D8>],\n",
       "       [<matplotlib.axes._subplots.AxesSubplot object at 0x0000021A0D35A978>,\n",
       "        <matplotlib.axes._subplots.AxesSubplot object at 0x0000021A0B896550>]], dtype=object)"
      ]
     },
     "execution_count": 321,
     "metadata": {},
     "output_type": "execute_result"
    },
    {
     "data": {
      "image/png": "[encoded data removed]",
      "text/plain": [
       "<matplotlib.figure.Figure at 0x21a0c27f320>"
      ]
     },
     "metadata": {},
     "output_type": "display_data"
    }
   ],
   "source": [
    "data['Survived'].hist(by=data['Embarked'], figsize=(8,8))\n",
    "# Embarked looks like it is explaining some variability, so keep it for now"
   ]
  },
  {
   "cell_type": "code",
   "execution_count": 293,
   "metadata": {},
   "outputs": [
    {
     "data": {
      "text/plain": [
       "array([[<matplotlib.axes._subplots.AxesSubplot object at 0x0000021A0F39F780>,\n",
       "        <matplotlib.axes._subplots.AxesSubplot object at 0x0000021A0F465198>],\n",
       "       [<matplotlib.axes._subplots.AxesSubplot object at 0x0000021A0F4D8E10>,\n",
       "        <matplotlib.axes._subplots.AxesSubplot object at 0x0000021A0F540780>],\n",
       "       [<matplotlib.axes._subplots.AxesSubplot object at 0x0000021A0F57CB70>,\n",
       "        <matplotlib.axes._subplots.AxesSubplot object at 0x0000021A0F57C8D0>]], dtype=object)"
      ]
     },
     "execution_count": 293,
     "metadata": {},
     "output_type": "execute_result"
    },
    {
     "data": {
      "image/png": "[encoded data removed]",
      "text/plain": [
       "<matplotlib.figure.Figure at 0x21a0f1e6828>"
      ]
     },
     "metadata": {},
     "output_type": "display_data"
    },
    {
     "data": {
      "image/png": "[encoded data removed]",
      "text/plain": [
       "<matplotlib.figure.Figure at 0x21a0f3ab908>"
      ]
     },
     "metadata": {},
     "output_type": "display_data"
    }
   ],
   "source": [
    "data['Survived'].hist(by=data['Sex'], figsize=(8,8))\n",
    "data['Survived'].hist(by=data['Title'], figsize=(8,8))\n",
    "# Also good predictors"
   ]
  },
  {
   "cell_type": "code",
   "execution_count": 322,
   "metadata": {},
   "outputs": [
    {
     "data": {
      "text/html": [
       "<div>\n",
       "<style>\n",
       "    .dataframe thead tr:only-child th {\n",
       "        text-align: right;\n",
       "    }\n",
       "\n",
       "    .dataframe thead th {\n",
       "        text-align: left;\n",
       "    }\n",
       "\n",
       "    .dataframe tbody tr th {\n",
       "        vertical-align: top;\n",
       "    }\n",
       "</style>\n",
       "<table border=\"1\" class=\"dataframe\">\n",
       "  <thead>\n",
       "    <tr style=\"text-align: right;\">\n",
       "      <th></th>\n",
       "      <th>Embarked</th>\n",
       "      <th>Fare</th>\n",
       "      <th>Pclass</th>\n",
       "      <th>Sex</th>\n",
       "      <th>Survived</th>\n",
       "      <th>Title</th>\n",
       "      <th>Age</th>\n",
       "      <th>FamilySize</th>\n",
       "    </tr>\n",
       "  </thead>\n",
       "  <tbody>\n",
       "    <tr>\n",
       "      <th>0</th>\n",
       "      <td>2</td>\n",
       "      <td>7.2500</td>\n",
       "      <td>3</td>\n",
       "      <td>0</td>\n",
       "      <td>0.0</td>\n",
       "      <td>4</td>\n",
       "      <td>22.0</td>\n",
       "      <td>1</td>\n",
       "    </tr>\n",
       "    <tr>\n",
       "      <th>1</th>\n",
       "      <td>0</td>\n",
       "      <td>71.2833</td>\n",
       "      <td>1</td>\n",
       "      <td>1</td>\n",
       "      <td>1.0</td>\n",
       "      <td>2</td>\n",
       "      <td>38.0</td>\n",
       "      <td>1</td>\n",
       "    </tr>\n",
       "    <tr>\n",
       "      <th>2</th>\n",
       "      <td>2</td>\n",
       "      <td>7.9250</td>\n",
       "      <td>3</td>\n",
       "      <td>1</td>\n",
       "      <td>1.0</td>\n",
       "      <td>1</td>\n",
       "      <td>26.0</td>\n",
       "      <td>0</td>\n",
       "    </tr>\n",
       "    <tr>\n",
       "      <th>3</th>\n",
       "      <td>2</td>\n",
       "      <td>53.1000</td>\n",
       "      <td>1</td>\n",
       "      <td>1</td>\n",
       "      <td>1.0</td>\n",
       "      <td>2</td>\n",
       "      <td>35.0</td>\n",
       "      <td>1</td>\n",
       "    </tr>\n",
       "    <tr>\n",
       "      <th>4</th>\n",
       "      <td>2</td>\n",
       "      <td>8.0500</td>\n",
       "      <td>3</td>\n",
       "      <td>0</td>\n",
       "      <td>0.0</td>\n",
       "      <td>4</td>\n",
       "      <td>35.0</td>\n",
       "      <td>0</td>\n",
       "    </tr>\n",
       "  </tbody>\n",
       "</table>\n",
       "</div>"
      ],
      "text/plain": [
       "   Embarked     Fare  Pclass  Sex  Survived  Title   Age  FamilySize\n",
       "0         2   7.2500       3    0       0.0      4  22.0           1\n",
       "1         0  71.2833       1    1       1.0      2  38.0           1\n",
       "2         2   7.9250       3    1       1.0      1  26.0           0\n",
       "3         2  53.1000       1    1       1.0      2  35.0           1\n",
       "4         2   8.0500       3    0       0.0      4  35.0           0"
      ]
     },
     "execution_count": 322,
     "metadata": {},
     "output_type": "execute_result"
    }
   ],
   "source": [
    "# Code 'Embarked' and 'Sex' as numbers\n",
    "cleanup_nums = {\"Embarked\":     {\"C\": 0, \"Q\": 1, \"S\": 2},\n",
    "                \"Sex\":          {\"male\": 0, \"female\": 1}}\n",
    "data.replace(cleanup_nums, inplace=True)\n",
    "data.head()"
   ]
  },
  {
   "cell_type": "code",
   "execution_count": 323,
   "metadata": {},
   "outputs": [
    {
     "name": "stdout",
     "output_type": "stream",
     "text": [
      "(17, 8)\n",
      "(10, 8)\n"
     ]
    }
   ],
   "source": [
    "# Bin Fare and Age for plotting against Survived\n",
    "data[['Fare','Age']].describe()\n",
    "print(data[data['Fare'] > 250].shape)\n",
    "# There are only few examples with Fare more than 250, so if thresholding that won't lose much info\n",
    "print(data[data['Age'] > 65].shape)\n",
    "# Same for people aged 65+\n",
    "\n",
    "data.loc[data.Fare > 250, 'Fare'] = 250\n",
    "data.loc[data.Age > 65, 'Age'] = 65\n",
    "\n",
    "n_bins = 8\n",
    "for i in range(n_bins):\n",
    "    bin_width = 250 / n_bins\n",
    "    data.loc[(data.Fare > bin_width * i) & (data.Fare < bin_width * (i + 1)), 'Fare'] = i\n",
    "    bin_width = 65 / n_bins\n",
    "    data.loc[(data.Age > bin_width * i) & (data.Age < bin_width * (i + 1)), 'Age'] = i\n"
   ]
  },
  {
   "cell_type": "code",
   "execution_count": 325,
   "metadata": {},
   "outputs": [
    {
     "data": {
      "text/plain": [
       "array([[<matplotlib.axes._subplots.AxesSubplot object at 0x0000021A0E46A8D0>,\n",
       "        <matplotlib.axes._subplots.AxesSubplot object at 0x0000021A10BAADA0>,\n",
       "        <matplotlib.axes._subplots.AxesSubplot object at 0x0000021A10A979E8>],\n",
       "       [<matplotlib.axes._subplots.AxesSubplot object at 0x0000021A109EFDD8>,\n",
       "        <matplotlib.axes._subplots.AxesSubplot object at 0x0000021A10A4E748>,\n",
       "        <matplotlib.axes._subplots.AxesSubplot object at 0x0000021A1091EB70>],\n",
       "       [<matplotlib.axes._subplots.AxesSubplot object at 0x0000021A110850B8>,\n",
       "        <matplotlib.axes._subplots.AxesSubplot object at 0x0000021A11093518>,\n",
       "        <matplotlib.axes._subplots.AxesSubplot object at 0x0000021A11148EB8>]], dtype=object)"
      ]
     },
     "execution_count": 325,
     "metadata": {},
     "output_type": "execute_result"
    },
    {
     "data": {
      "image/png": "[encoded data removed]",
      "text/plain": [
       "<matplotlib.figure.Figure at 0x21a0c2b2dd8>"
      ]
     },
     "metadata": {},
     "output_type": "display_data"
    },
    {
     "data": {
      "image/png": "[encoded data removed]",
      "text/plain": [
       "<matplotlib.figure.Figure at 0x21a1089ec50>"
      ]
     },
     "metadata": {},
     "output_type": "display_data"
    }
   ],
   "source": [
    "data['Survived'].hist(by=data['Age'], figsize=(8,8))\n",
    "data['Survived'].hist(by=data['Fare'], figsize=(8,8))\n",
    "# Good predictors"
   ]
  },
  {
   "cell_type": "code",
   "execution_count": 329,
   "metadata": {},
   "outputs": [
    {
     "data": {
      "text/html": [
       "<div>\n",
       "<style>\n",
       "    .dataframe thead tr:only-child th {\n",
       "        text-align: right;\n",
       "    }\n",
       "\n",
       "    .dataframe thead th {\n",
       "        text-align: left;\n",
       "    }\n",
       "\n",
       "    .dataframe tbody tr th {\n",
       "        vertical-align: top;\n",
       "    }\n",
       "</style>\n",
       "<table border=\"1\" class=\"dataframe\">\n",
       "  <thead>\n",
       "    <tr style=\"text-align: right;\">\n",
       "      <th></th>\n",
       "      <th>Embarked</th>\n",
       "      <th>Fare</th>\n",
       "      <th>Pclass</th>\n",
       "      <th>Sex</th>\n",
       "      <th>Survived</th>\n",
       "      <th>Title</th>\n",
       "      <th>Age</th>\n",
       "      <th>FamilySize</th>\n",
       "    </tr>\n",
       "  </thead>\n",
       "  <tbody>\n",
       "    <tr>\n",
       "      <th>0</th>\n",
       "      <td>2</td>\n",
       "      <td>0.0</td>\n",
       "      <td>3</td>\n",
       "      <td>0</td>\n",
       "      <td>0.0</td>\n",
       "      <td>4</td>\n",
       "      <td>2.0</td>\n",
       "      <td>1</td>\n",
       "    </tr>\n",
       "    <tr>\n",
       "      <th>1</th>\n",
       "      <td>0</td>\n",
       "      <td>2.0</td>\n",
       "      <td>1</td>\n",
       "      <td>1</td>\n",
       "      <td>1.0</td>\n",
       "      <td>2</td>\n",
       "      <td>4.0</td>\n",
       "      <td>1</td>\n",
       "    </tr>\n",
       "    <tr>\n",
       "      <th>2</th>\n",
       "      <td>2</td>\n",
       "      <td>0.0</td>\n",
       "      <td>3</td>\n",
       "      <td>1</td>\n",
       "      <td>1.0</td>\n",
       "      <td>1</td>\n",
       "      <td>3.0</td>\n",
       "      <td>0</td>\n",
       "    </tr>\n",
       "    <tr>\n",
       "      <th>3</th>\n",
       "      <td>2</td>\n",
       "      <td>1.0</td>\n",
       "      <td>1</td>\n",
       "      <td>1</td>\n",
       "      <td>1.0</td>\n",
       "      <td>2</td>\n",
       "      <td>4.0</td>\n",
       "      <td>1</td>\n",
       "    </tr>\n",
       "    <tr>\n",
       "      <th>4</th>\n",
       "      <td>2</td>\n",
       "      <td>0.0</td>\n",
       "      <td>3</td>\n",
       "      <td>0</td>\n",
       "      <td>0.0</td>\n",
       "      <td>4</td>\n",
       "      <td>4.0</td>\n",
       "      <td>0</td>\n",
       "    </tr>\n",
       "  </tbody>\n",
       "</table>\n",
       "</div>"
      ],
      "text/plain": [
       "   Embarked  Fare  Pclass  Sex  Survived  Title  Age  FamilySize\n",
       "0         2   0.0       3    0       0.0      4  2.0           1\n",
       "1         0   2.0       1    1       1.0      2  4.0           1\n",
       "2         2   0.0       3    1       1.0      1  3.0           0\n",
       "3         2   1.0       1    1       1.0      2  4.0           1\n",
       "4         2   0.0       3    0       0.0      4  4.0           0"
      ]
     },
     "execution_count": 329,
     "metadata": {},
     "output_type": "execute_result"
    }
   ],
   "source": [
    "data.head()\n",
    "# Cleaned data is ready"
   ]
  },
  {
   "cell_type": "code",
   "execution_count": null,
   "metadata": {},
   "outputs": [],
   "source": []
  },
  {
   "cell_type": "code",
   "execution_count": 334,
   "metadata": {},
   "outputs": [
    {
     "name": "stdout",
     "output_type": "stream",
     "text": [
      "(891, 7)\n",
      "(891,)\n",
      "(418, 7)\n"
     ]
    }
   ],
   "source": [
    "# Split the data to features, labels, train and test\n",
    "collist = data.columns.tolist()\n",
    "collist.remove('Survived')\n",
    "\n",
    "y = data['Survived'].as_matrix()\n",
    "x = data[collist].as_matrix()\n",
    "\n",
    "# Force everything to int8 - efficient for computation and memory\n",
    "x_train = x[:train.shape[0]].astype('int8')\n",
    "y_train = y[:train.shape[0]].astype('int8')\n",
    "x_test = x[train.shape[0]:].astype('int8')\n",
    "\n",
    "\n",
    "print(x_train.shape)\n",
    "print(y_train.shape)\n",
    "print(x_test.shape)"
   ]
  },
  {
   "cell_type": "code",
   "execution_count": 337,
   "metadata": {},
   "outputs": [
    {
     "data": {
      "text/plain": [
       "array([[2, 0, 3, ..., 4, 2, 1],\n",
       "       [0, 2, 1, ..., 2, 4, 1],\n",
       "       [2, 0, 3, ..., 1, 3, 0],\n",
       "       ..., \n",
       "       [2, 0, 3, ..., 1, 2, 3],\n",
       "       [0, 0, 1, ..., 4, 3, 0],\n",
       "       [1, 0, 3, ..., 4, 3, 0]], dtype=int8)"
      ]
     },
     "execution_count": 337,
     "metadata": {},
     "output_type": "execute_result"
    }
   ],
   "source": [
    "# SAVE THE CLEANED DATA ON h5py tables"
   ]
  },
  {
   "cell_type": "code",
   "execution_count": null,
   "metadata": {},
   "outputs": [],
   "source": [
    "# Now lets get to analysis\n"
   ]
  },
  {
   "cell_type": "code",
   "execution_count": null,
   "metadata": {},
   "outputs": [],
   "source": []
  }
 ],
 "metadata": {
  "kernelspec": {
   "display_name": "Python 3",
   "language": "python",
   "name": "python3"
  },
  "language_info": {
   "codemirror_mode": {
    "name": "ipython",
    "version": 3
   },
   "file_extension": ".py",
   "mimetype": "text/x-python",
   "name": "python",
   "nbconvert_exporter": "python",
   "pygments_lexer": "ipython3",
   "version": "3.6.1"
  }
 },
 "nbformat": 4,
 "nbformat_minor": 2
}
